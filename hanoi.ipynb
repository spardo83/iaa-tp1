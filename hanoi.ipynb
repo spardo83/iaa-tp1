{
 "cells": [
  {
   "cell_type": "markdown",
   "id": "oR9RrOWTS4uC",
   "metadata": {
    "id": "oR9RrOWTS4uC"
   },
   "source": [
    "# [Trabajo práctico 1 - Torre de Hanoi](https://github.com/spardo83/iaa-tp1)\n",
    "\n",
    "## Integrantes\n",
    "\n",
    "- Gimenez, Pablo Eduardo\n",
    "- Pardo, Sebastián\n",
    "- González, Martín\n",
    "- Brazón, Josmar\n",
    "- Losada, Ricardo\n",
    "- Meoli, Lucas Pablo\n",
    "\n",
    "## Introducción\n",
    "\n",
    "En este notebook se desarrolla el Trabajo Práctico N.º 1 de la materia Inteligencia Artificial, perteneciente a la Carrera de Especialización en Inteligencia Artificial (CEIA).\n",
    "\n",
    "El trabajo se divide en dos partes: en primer lugar, se implementan distintos algoritmos de búsqueda para resolver el problema de la Torre de Hanoi, utilizando el material provisto como base; y en segundo lugar, se abordan las preguntas teóricas planteadas por la cátedra.\n",
    "\n"
   ]
  },
  {
   "cell_type": "markdown",
   "id": "b8814498-4fae-4529-8c91-e5d33edeb723",
   "metadata": {
    "id": "oR9RrOWTS4uC"
   },
   "source": [
    "# Algoritmo propuesto en clase a modo de ejemplo\n"
   ]
  },
  {
   "cell_type": "code",
   "execution_count": 1,
   "id": "5e127f42-19d1-4ebf-a57d-7e829dc684bf",
   "metadata": {},
   "outputs": [],
   "source": [
    "def breadth_first_search(number_disks=5):\n",
    "    # Inicializamos el problema\n",
    "    list_disks = [i for i in range(5, 0, -1)]\n",
    "    initial_state = StatesHanoi(list_disks, [], [], max_disks=number_disks)\n",
    "    goal_state = StatesHanoi([], [], list_disks, max_disks=number_disks)\n",
    "    problem = ProblemHanoi(initial=initial_state, goal=goal_state)\n",
    "\n",
    "    frontier = [NodeHanoi(problem.initial)] # Cola FIFO con el nodo inicial\n",
    "    explored = set() # Conjunto de estados ya visitados\n",
    "\n",
    "    node_explored = 0\n",
    "    \n",
    "    while len(frontier) != 0:\n",
    "        node = frontier.pop()\n",
    "        node_explored += 1\n",
    "        \n",
    "        explored.add(node.state) # Verificamos si llegamos al objetivo\n",
    "        \n",
    "        if problem.goal_test(node.state):\n",
    "            metrics = {\n",
    "                \"solution_found\": True,\n",
    "                \"nodes_explored\": node_explored,\n",
    "                \"states_visited\": len(explored),\n",
    "                \"nodes_in_frontier\": len(frontier),\n",
    "                \"max_depth\": node.depth,\n",
    "                \"cost_total\": node.state.accumulated_cost,\n",
    "            }\n",
    "            return node, metrics, node\n",
    "        \n",
    "        # Agregamos a la frontera los nodos sucesores que no hayan sido visitados\n",
    "        for next_node in node.expand(problem):\n",
    "            if next_node.state not in explored:\n",
    "                frontier.insert(0, next_node)\n",
    "\n",
    "    # Si no se encuentra solución, devolvemos métricas igualmente\n",
    "    metrics = {\n",
    "        \"solution_found\": False,\n",
    "        \"nodes_explored\": node_explored,\n",
    "        \"states_visited\": len(explored),\n",
    "        \"nodes_in_frontier\": len(frontier),\n",
    "        \"max_depth\": node.depth, # OBS: Si no se encontró la solución, este valor solo tiene sentido en breadth_first_search, en otros casos se debe ir llevando registro de cual fue la máxima profundidad\n",
    "        \"cost_total\": None,\n",
    "    }\n",
    "    return None, metrics, None"
   ]
  },
  {
   "cell_type": "markdown",
   "id": "bee0abf798c2d244",
   "metadata": {},
   "source": [
    "# Implementación de otros algoritmos de búsqueda"
   ]
  },
  {
   "cell_type": "markdown",
   "id": "8f5bf558cb8753a5",
   "metadata": {},
   "source": [
    "### Funciones de ayuda"
   ]
  },
  {
   "cell_type": "markdown",
   "id": "2c547ec9e7ff8c0b",
   "metadata": {},
   "source": [
    "#### Guardar secuencia de movimientos"
   ]
  },
  {
   "cell_type": "code",
   "execution_count": 2,
   "id": "c376bf15bf254b9",
   "metadata": {
    "ExecuteTime": {
     "end_time": "2025-07-12T19:42:40.637567Z",
     "start_time": "2025-07-12T19:42:40.631271Z"
    }
   },
   "outputs": [],
   "source": [
    "import json\n",
    "\n",
    "def save_sequence(filename):\n",
    "    path = goal_node.path()\n",
    "    \n",
    "    movimientos = []\n",
    "    for node in path:\n",
    "        if node.action:\n",
    "            texto = str(node.action)  # Ej: \"Move disk 1 from 1 to 3\"\n",
    "            partes = texto.split()\n",
    "            movimientos.append({\n",
    "                \"disk\": int(partes[2]),\n",
    "                \"peg_start\": int(partes[4]),\n",
    "                \"peg_end\": int(partes[6])\n",
    "            })\n",
    "    \n",
    "    with open(f\"simulator/{filename}.json\", \"w\") as f:\n",
    "        json.dump(movimientos, f, indent=4)"
   ]
  },
  {
   "cell_type": "markdown",
   "id": "b09895dfd8bd209b",
   "metadata": {},
   "source": [
    "#### Guardar estado inicial"
   ]
  },
  {
   "cell_type": "code",
   "execution_count": 3,
   "id": "d7476e9ac513024c",
   "metadata": {
    "ExecuteTime": {
     "end_time": "2025-07-12T19:42:40.657327Z",
     "start_time": "2025-07-12T19:42:40.655252Z"
    }
   },
   "outputs": [],
   "source": [
    "\n",
    "def save_initial_state(filename):\n",
    "    initial_state_greedy = {\n",
    "        \"peg_1\": [5, 4, 3, 2, 1],\n",
    "        \"peg_2\": [],\n",
    "        \"peg_3\": []\n",
    "    }\n",
    "    \n",
    "    with open(f\"simulator/{filename}.json\", \"w\") as f:\n",
    "        json.dump(initial_state_greedy, f, indent=4)"
   ]
  },
  {
   "cell_type": "code",
   "execution_count": 4,
   "id": "d72644780e36ddc0",
   "metadata": {
    "ExecuteTime": {
     "end_time": "2025-07-12T19:42:44.251186Z",
     "start_time": "2025-07-12T19:42:40.668217Z"
    }
   },
   "outputs": [],
   "source": [
    "import matplotlib.pyplot as plt\n",
    "import matplotlib.patches as patches\n",
    "import time\n",
    "import json\n",
    "from IPython.display import clear_output\n",
    "\n",
    "def simulate_movements(sequence_file, initial_state_file):\n",
    "    # Cargar archivos\n",
    "    with open(f\"simulator/{initial_state_file}.json\") as f:\n",
    "        initial_state = json.load(f)\n",
    "    \n",
    "    with open(f\"simulator/{sequence_file}.json\") as f:\n",
    "        sequence = json.load(f)\n",
    "    \n",
    "    # Estado actual\n",
    "    state = {\n",
    "        1: initial_state['peg_1'],  # invertimos para mostrar base abajo\n",
    "        2: initial_state['peg_2'],\n",
    "        3: initial_state['peg_3']\n",
    "    }\n",
    "    \n",
    "    # Dibujar torres\n",
    "    def draw_state(state, step_num=None, delay=1):\n",
    "        clear_output(wait=True)\n",
    "        plt.figure(figsize=(8, 4))\n",
    "        peg_positions = [1, 3, 5]\n",
    "        peg_labels = {1: \"Torre 1\", 2: \"Torre 2\", 3: \"Torre 3\"}\n",
    "        max_disks = sum(len(v) for v in state.values())\n",
    "    \n",
    "        # Dibujar varillas\n",
    "        for peg_x in peg_positions:\n",
    "            plt.plot([peg_x, peg_x], [0, max_disks + 1], 'k', lw=2)\n",
    "    \n",
    "        # Dibujar discos\n",
    "        for peg, peg_x in zip(state, peg_positions):\n",
    "            for level, disk in enumerate(state[peg]):\n",
    "                width = disk * 0.4\n",
    "                rect = patches.Rectangle((peg_x - width / 2, level), width, 0.8, color=f\"C{disk % 10}\")\n",
    "                plt.gca().add_patch(rect)\n",
    "                plt.text(peg_x, level + 0.3, str(disk), ha='center', va='center', color='white', fontsize=9)\n",
    "    \n",
    "        # Etiquetas\n",
    "        plt.xticks(peg_positions, [\"Torre 1\", \"Torre 2\", \"Torre 3\"])\n",
    "        plt.yticks([])\n",
    "        if step_num is not None:\n",
    "            plt.title(f\"Paso {step_num}\")\n",
    "        plt.xlim(0, 6)\n",
    "        plt.ylim(0, max_disks + 2)\n",
    "        plt.gca().set_aspect('equal')\n",
    "        plt.axis('off')\n",
    "        plt.show()\n",
    "        time.sleep(delay)\n",
    "    \n",
    "    # Simular movimientos\n",
    "    for i, move in enumerate(sequence, 1):\n",
    "        draw_state(state, step_num=i)\n",
    "        disk = move[\"disk\"]\n",
    "        origin = move[\"peg_start\"]\n",
    "        target = move[\"peg_end\"]\n",
    "        state[origin].remove(disk)\n",
    "        state[target].append(disk)\n",
    "    \n",
    "    # Mostrar estado final\n",
    "    draw_state(state, step_num=\"Final\", delay=0)"
   ]
  },
  {
   "cell_type": "markdown",
   "id": "b47e679b",
   "metadata": {
    "id": "b47e679b"
   },
   "source": [
    "## Búsqueda Primero en Profundidad (DFS)\n",
    "\n",
    "Este algoritmo utiliza una cola LIFO en lugar de una cola FIFO como en BFS. Esto permite explorar primero los nodos más profundos antes que los más cercanos al nodo inicial."
   ]
  },
  {
   "cell_type": "markdown",
   "id": "fc8da78d",
   "metadata": {
    "id": "fc8da78d"
   },
   "source": [
    "### Funcion"
   ]
  },
  {
   "cell_type": "code",
   "execution_count": 5,
   "id": "f8e703cc",
   "metadata": {
    "ExecuteTime": {
     "end_time": "2025-07-12T19:42:44.262424Z",
     "start_time": "2025-07-12T19:42:44.258958Z"
    },
    "id": "f8e703cc"
   },
   "outputs": [],
   "source": [
    "def depth_first_search(number_disks=5):\n",
    "    # Inicializamos el problema\n",
    "    list_disks = [i for i in range(number_disks, 0, -1)]\n",
    "    initial_state = StatesHanoi(list_disks, [], [], max_disks=number_disks)\n",
    "    goal_state = StatesHanoi([], [], list_disks, max_disks=number_disks)\n",
    "    problem = ProblemHanoi(initial=initial_state, goal=goal_state)\n",
    "\n",
    "    frontier = [NodeHanoi(problem.initial)] # Cola con el nodo inicial\n",
    "    explored = set() # Conjunto de estados ya visitados\n",
    "\n",
    "    node_explored = 0\n",
    "\n",
    "    goal_node = None\n",
    "\n",
    "    while len(frontier) != 0:\n",
    "        node = frontier.pop()\n",
    "        node_explored += 1\n",
    "\n",
    "        explored.add(node.state) # Verificamos si llegamos al objetivo\n",
    "\n",
    "        if problem.goal_test(node.state):\n",
    "            metrics = {\n",
    "                \"solution_found\": True,\n",
    "                \"nodes_explored\": node_explored,\n",
    "                \"states_visited\": len(explored),\n",
    "                \"nodes_in_frontier\": len(frontier),\n",
    "                \"max_depth\": node.depth,\n",
    "                \"cost_total\": node.state.accumulated_cost,\n",
    "            }\n",
    "            goal_node = node\n",
    "            return node, metrics, goal_node\n",
    "\n",
    "        # Agregamos a la frontera los nodos sucesores que no hayan sido visitados\n",
    "        for next_node in node.expand(problem):\n",
    "            if next_node.state not in explored:\n",
    "                frontier.append(next_node) # LIFO -> Append\n",
    "\n",
    "    # Si no se encuentra solución, devolvemos métricas igualmente\n",
    "    metrics = {\n",
    "        \"solution_found\": False,\n",
    "        \"nodes_explored\": node_explored,\n",
    "        \"states_visited\": len(explored),\n",
    "        \"nodes_in_frontier\": len(frontier),\n",
    "        \"max_depth\": node.depth, # OBS: Si no se encontró la solución, este valor solo tiene sentido en breadth_first_search, en otros casos se debe ir llevando registro de cual fue la máxima profundidad\n",
    "        \"cost_total\": None,\n",
    "    }\n",
    "\n",
    "    return None, metrics, goal_node"
   ]
  },
  {
   "cell_type": "markdown",
   "id": "80586f64",
   "metadata": {
    "id": "80586f64"
   },
   "source": [
    "### Ejecución"
   ]
  },
  {
   "cell_type": "code",
   "execution_count": 6,
   "id": "686db050-b868-4db9-9794-98e1774381e9",
   "metadata": {},
   "outputs": [],
   "source": [
    "# Importar dependencias\n",
    "from aima_libs.hanoi_states import StatesHanoi, ProblemHanoi\n",
    "from aima_libs.tree_hanoi import NodeHanoi"
   ]
  },
  {
   "cell_type": "code",
   "execution_count": 7,
   "id": "e1270d8a",
   "metadata": {
    "ExecuteTime": {
     "end_time": "2025-07-12T19:42:44.283450Z",
     "start_time": "2025-07-12T19:42:44.276002Z"
    },
    "id": "e1270d8a"
   },
   "outputs": [],
   "source": [
    "solution, metrics, _ = depth_first_search(number_disks=5)"
   ]
  },
  {
   "cell_type": "markdown",
   "id": "f6c7bd30",
   "metadata": {
    "id": "f6c7bd30"
   },
   "source": [
    "Métricas:"
   ]
  },
  {
   "cell_type": "code",
   "execution_count": 8,
   "id": "491e92cf",
   "metadata": {
    "ExecuteTime": {
     "end_time": "2025-07-12T19:42:44.315045Z",
     "start_time": "2025-07-12T19:42:44.312245Z"
    },
    "id": "491e92cf"
   },
   "outputs": [
    {
     "name": "stdout",
     "output_type": "stream",
     "text": [
      "solution_found: True\n",
      "nodes_explored: 122\n",
      "states_visited: 122\n",
      "nodes_in_frontier: 63\n",
      "max_depth: 121\n",
      "cost_total: 121.0\n"
     ]
    }
   ],
   "source": [
    "for key, value in metrics.items():\n",
    "    print(f\"{key}: {value}\")"
   ]
  },
  {
   "cell_type": "markdown",
   "id": "5334a70b",
   "metadata": {
    "id": "5334a70b"
   },
   "source": [
    "Camino:"
   ]
  },
  {
   "cell_type": "code",
   "execution_count": 9,
   "id": "34500880",
   "metadata": {
    "ExecuteTime": {
     "end_time": "2025-07-12T19:42:44.348261Z",
     "start_time": "2025-07-12T19:42:44.344561Z"
    },
    "id": "34500880"
   },
   "outputs": [
    {
     "name": "stdout",
     "output_type": "stream",
     "text": [
      "<Node HanoiState: 5 4 3 2 1 |  | >\n",
      "<Node HanoiState: 5 4 3 2 |  | 1>\n",
      "<Node HanoiState: 5 4 3 2 | 1 | >\n",
      "<Node HanoiState: 5 4 3 | 1 | 2>\n",
      "<Node HanoiState: 5 4 3 |  | 2 1>\n",
      "<Node HanoiState: 5 4 3 1 |  | 2>\n",
      "<Node HanoiState: 5 4 3 1 | 2 | >\n",
      "<Node HanoiState: 5 4 3 | 2 | 1>\n",
      "<Node HanoiState: 5 4 3 | 2 1 | >\n",
      "<Node HanoiState: 5 4 | 2 1 | 3>\n",
      "<Node HanoiState: 5 4 | 2 | 3 1>\n",
      "<Node HanoiState: 5 4 1 | 2 | 3>\n",
      "<Node HanoiState: 5 4 1 |  | 3 2>\n",
      "<Node HanoiState: 5 4 |  | 3 2 1>\n",
      "<Node HanoiState: 5 4 | 1 | 3 2>\n",
      "<Node HanoiState: 5 4 2 | 1 | 3>\n",
      "<Node HanoiState: 5 4 2 |  | 3 1>\n",
      "<Node HanoiState: 5 4 2 1 |  | 3>\n",
      "<Node HanoiState: 5 4 2 1 | 3 | >\n",
      "<Node HanoiState: 5 4 2 | 3 | 1>\n",
      "<Node HanoiState: 5 4 2 | 3 1 | >\n",
      "<Node HanoiState: 5 4 | 3 1 | 2>\n",
      "<Node HanoiState: 5 4 | 3 | 2 1>\n",
      "<Node HanoiState: 5 4 1 | 3 | 2>\n",
      "<Node HanoiState: 5 4 1 | 3 2 | >\n",
      "<Node HanoiState: 5 4 | 3 2 | 1>\n",
      "<Node HanoiState: 5 4 | 3 2 1 | >\n",
      "<Node HanoiState: 5 | 3 2 1 | 4>\n",
      "<Node HanoiState: 5 | 3 2 | 4 1>\n",
      "<Node HanoiState: 5 1 | 3 2 | 4>\n",
      "<Node HanoiState: 5 1 | 3 | 4 2>\n",
      "<Node HanoiState: 5 | 3 | 4 2 1>\n",
      "<Node HanoiState: 5 | 3 1 | 4 2>\n",
      "<Node HanoiState: 5 2 | 3 1 | 4>\n",
      "<Node HanoiState: 5 2 | 3 | 4 1>\n",
      "<Node HanoiState: 5 2 1 | 3 | 4>\n",
      "<Node HanoiState: 5 2 1 |  | 4 3>\n",
      "<Node HanoiState: 5 2 |  | 4 3 1>\n",
      "<Node HanoiState: 5 2 | 1 | 4 3>\n",
      "<Node HanoiState: 5 | 1 | 4 3 2>\n",
      "<Node HanoiState: 5 |  | 4 3 2 1>\n",
      "<Node HanoiState: 5 1 |  | 4 3 2>\n",
      "<Node HanoiState: 5 1 | 2 | 4 3>\n",
      "<Node HanoiState: 5 | 2 | 4 3 1>\n",
      "<Node HanoiState: 5 | 2 1 | 4 3>\n",
      "<Node HanoiState: 5 3 | 2 1 | 4>\n",
      "<Node HanoiState: 5 3 | 2 | 4 1>\n",
      "<Node HanoiState: 5 3 1 | 2 | 4>\n",
      "<Node HanoiState: 5 3 1 |  | 4 2>\n",
      "<Node HanoiState: 5 3 |  | 4 2 1>\n",
      "<Node HanoiState: 5 3 | 1 | 4 2>\n",
      "<Node HanoiState: 5 3 2 | 1 | 4>\n",
      "<Node HanoiState: 5 3 2 |  | 4 1>\n",
      "<Node HanoiState: 5 3 2 1 |  | 4>\n",
      "<Node HanoiState: 5 3 2 1 | 4 | >\n",
      "<Node HanoiState: 5 3 2 | 4 | 1>\n",
      "<Node HanoiState: 5 3 2 | 4 1 | >\n",
      "<Node HanoiState: 5 3 | 4 1 | 2>\n",
      "<Node HanoiState: 5 3 | 4 | 2 1>\n",
      "<Node HanoiState: 5 3 1 | 4 | 2>\n",
      "<Node HanoiState: 5 3 1 | 4 2 | >\n",
      "<Node HanoiState: 5 3 | 4 2 | 1>\n",
      "<Node HanoiState: 5 3 | 4 2 1 | >\n",
      "<Node HanoiState: 5 | 4 2 1 | 3>\n",
      "<Node HanoiState: 5 | 4 2 | 3 1>\n",
      "<Node HanoiState: 5 1 | 4 2 | 3>\n",
      "<Node HanoiState: 5 1 | 4 | 3 2>\n",
      "<Node HanoiState: 5 | 4 | 3 2 1>\n",
      "<Node HanoiState: 5 | 4 1 | 3 2>\n",
      "<Node HanoiState: 5 2 | 4 1 | 3>\n",
      "<Node HanoiState: 5 2 | 4 | 3 1>\n",
      "<Node HanoiState: 5 2 1 | 4 | 3>\n",
      "<Node HanoiState: 5 2 1 | 4 3 | >\n",
      "<Node HanoiState: 5 2 | 4 3 | 1>\n",
      "<Node HanoiState: 5 2 | 4 3 1 | >\n",
      "<Node HanoiState: 5 | 4 3 1 | 2>\n",
      "<Node HanoiState: 5 | 4 3 | 2 1>\n",
      "<Node HanoiState: 5 1 | 4 3 | 2>\n",
      "<Node HanoiState: 5 1 | 4 3 2 | >\n",
      "<Node HanoiState: 5 | 4 3 2 | 1>\n",
      "<Node HanoiState: 5 | 4 3 2 1 | >\n",
      "<Node HanoiState:  | 4 3 2 1 | 5>\n",
      "<Node HanoiState:  | 4 3 2 | 5 1>\n",
      "<Node HanoiState: 1 | 4 3 2 | 5>\n",
      "<Node HanoiState: 1 | 4 3 | 5 2>\n",
      "<Node HanoiState:  | 4 3 | 5 2 1>\n",
      "<Node HanoiState:  | 4 3 1 | 5 2>\n",
      "<Node HanoiState: 2 | 4 3 1 | 5>\n",
      "<Node HanoiState: 2 | 4 3 | 5 1>\n",
      "<Node HanoiState: 2 1 | 4 3 | 5>\n",
      "<Node HanoiState: 2 1 | 4 | 5 3>\n",
      "<Node HanoiState: 2 | 4 | 5 3 1>\n",
      "<Node HanoiState: 2 | 4 1 | 5 3>\n",
      "<Node HanoiState:  | 4 1 | 5 3 2>\n",
      "<Node HanoiState:  | 4 | 5 3 2 1>\n",
      "<Node HanoiState: 1 | 4 | 5 3 2>\n",
      "<Node HanoiState: 1 | 4 2 | 5 3>\n",
      "<Node HanoiState:  | 4 2 | 5 3 1>\n",
      "<Node HanoiState:  | 4 2 1 | 5 3>\n",
      "<Node HanoiState: 3 | 4 2 1 | 5>\n",
      "<Node HanoiState: 3 | 4 2 | 5 1>\n",
      "<Node HanoiState: 3 1 | 4 2 | 5>\n",
      "<Node HanoiState: 3 1 | 4 | 5 2>\n",
      "<Node HanoiState: 3 | 4 | 5 2 1>\n",
      "<Node HanoiState: 3 | 4 1 | 5 2>\n",
      "<Node HanoiState: 3 2 | 4 1 | 5>\n",
      "<Node HanoiState: 3 2 | 4 | 5 1>\n",
      "<Node HanoiState: 3 2 1 | 4 | 5>\n",
      "<Node HanoiState: 3 2 1 |  | 5 4>\n",
      "<Node HanoiState: 3 2 |  | 5 4 1>\n",
      "<Node HanoiState: 3 2 | 1 | 5 4>\n",
      "<Node HanoiState: 3 | 1 | 5 4 2>\n",
      "<Node HanoiState: 3 |  | 5 4 2 1>\n",
      "<Node HanoiState: 3 1 |  | 5 4 2>\n",
      "<Node HanoiState: 3 1 | 2 | 5 4>\n",
      "<Node HanoiState: 3 | 2 | 5 4 1>\n",
      "<Node HanoiState: 3 | 2 1 | 5 4>\n",
      "<Node HanoiState:  | 2 1 | 5 4 3>\n",
      "<Node HanoiState:  | 2 | 5 4 3 1>\n",
      "<Node HanoiState: 1 | 2 | 5 4 3>\n",
      "<Node HanoiState: 1 |  | 5 4 3 2>\n",
      "<Node HanoiState:  |  | 5 4 3 2 1>\n"
     ]
    }
   ],
   "source": [
    "for nodos in solution.path():\n",
    "    print(nodos)"
   ]
  },
  {
   "cell_type": "markdown",
   "id": "fe050444",
   "metadata": {
    "id": "fe050444"
   },
   "source": [
    "Performance:"
   ]
  },
  {
   "cell_type": "code",
   "execution_count": 10,
   "id": "5fb454cc",
   "metadata": {
    "ExecuteTime": {
     "end_time": "2025-07-12T19:42:47.212798Z",
     "start_time": "2025-07-12T19:42:44.387048Z"
    },
    "colab": {
     "base_uri": "https://localhost:8080/"
    },
    "id": "5fb454cc",
    "outputId": "d91ff368-91d2-45c4-bab0-77065bea2ed7"
   },
   "outputs": [
    {
     "name": "stdout",
     "output_type": "stream",
     "text": [
      "9.71 ms ± 94 μs per loop (mean ± std. dev. of 7 runs, 100 loops each)\n"
     ]
    }
   ],
   "source": [
    "%%timeit\n",
    "solution, metrics, _ = depth_first_search(number_disks=5)"
   ]
  },
  {
   "cell_type": "code",
   "execution_count": 11,
   "id": "37c2694e",
   "metadata": {
    "ExecuteTime": {
     "end_time": "2025-07-12T19:42:47.253533Z",
     "start_time": "2025-07-12T19:42:47.227160Z"
    },
    "colab": {
     "base_uri": "https://localhost:8080/"
    },
    "id": "37c2694e",
    "outputId": "86c17377-4a8d-4fb0-a810-8b09b2ed1cef"
   },
   "outputs": [
    {
     "name": "stdout",
     "output_type": "stream",
     "text": [
      "Pico de memoria ocupada: 0.25 [MB]\n"
     ]
    }
   ],
   "source": [
    "import tracemalloc\n",
    "\n",
    "tracemalloc.start()\n",
    "\n",
    "solution, metrics, _ = depth_first_search(number_disks=5)\n",
    "\n",
    "# Para medir memoria consumida usamos el pico de memoria\n",
    "_, memory_peak = tracemalloc.get_traced_memory()\n",
    "memory_peak /= 1024*1024\n",
    "tracemalloc.stop()\n",
    "\n",
    "print(f\"Pico de memoria ocupada: {round(memory_peak, 2)} [MB]\", )"
   ]
  },
  {
   "cell_type": "markdown",
   "id": "67c33a19",
   "metadata": {
    "id": "67c33a19"
   },
   "source": [
    "## Funciones Heurísticas"
   ]
  },
  {
   "cell_type": "code",
   "execution_count": 12,
   "id": "9495ef21",
   "metadata": {
    "ExecuteTime": {
     "end_time": "2025-07-12T19:42:47.270250Z",
     "start_time": "2025-07-12T19:42:47.267060Z"
    },
    "colab": {
     "base_uri": "https://localhost:8080/"
    },
    "id": "9495ef21",
    "outputId": "1b448435-08be-4fba-dae1-2383d5e9164a"
   },
   "outputs": [
    {
     "data": {
      "text/plain": [
       "1"
      ]
     },
     "execution_count": 12,
     "metadata": {},
     "output_type": "execute_result"
    }
   ],
   "source": [
    "# 1 - Numero de discos fuera de ultima varilla\n",
    "\n",
    "def heuristic_func1(node: NodeHanoi) -> int:\n",
    "\n",
    "    return sum(len(rod) for rod in node.state.rods[:-1])\n",
    "\n",
    "heuristic_func1(NodeHanoi(StatesHanoi([2], [], [3, 1], max_disks=3)))"
   ]
  },
  {
   "cell_type": "code",
   "execution_count": 13,
   "id": "1d184a67",
   "metadata": {
    "ExecuteTime": {
     "end_time": "2025-07-12T19:42:47.301906Z",
     "start_time": "2025-07-12T19:42:47.297571Z"
    },
    "colab": {
     "base_uri": "https://localhost:8080/"
    },
    "id": "1d184a67",
    "outputId": "12303322-51ca-4729-de74-687b3a4fa326"
   },
   "outputs": [
    {
     "data": {
      "text/plain": [
       "1"
      ]
     },
     "execution_count": 13,
     "metadata": {},
     "output_type": "execute_result"
    }
   ],
   "source": [
    "# 2 - Numero de discos fuera de ultima varilla mas\n",
    "#     numero de discos de la ultima varilla si no esta debajo el mas grande o numero de discos a partir del cual estan mal apilados\n",
    "\n",
    "def heuristic_func2(node: NodeHanoi) -> int:\n",
    "\n",
    "    rods = node.state.rods\n",
    "\n",
    "    # Numero de discos fuera de ultima varilla\n",
    "\n",
    "    not_in_last_rod = sum(len(rod) for rod in rods[:-1])\n",
    "\n",
    "    # Analiza ultima varilla\n",
    "\n",
    "    last_rod = rods[-1]\n",
    "    wrong_in_last_rod = 0\n",
    "\n",
    "    # Verifica si el disco de más abajo es el más grande\n",
    "\n",
    "    if last_rod:\n",
    "\n",
    "        if  last_rod[0] != max(max(rod) for rod in rods if rod):\n",
    "            wrong_in_last_rod = len(last_rod)\n",
    "\n",
    "        # Recorre desde abajo hacia arriba, y encuentra el primer disco mal apilado\n",
    "\n",
    "        else:\n",
    "            for i in range(len(last_rod) - 1):\n",
    "                if last_rod[i] < last_rod[i + 1]:\n",
    "                    wrong_in_last_rod = len(last_rod) - i - 1  # cantidad desde el disco mal puesto hasta arriba\n",
    "\n",
    "    return not_in_last_rod + wrong_in_last_rod\n",
    "\n",
    "heuristic_func2(NodeHanoi(StatesHanoi([2], [], [3, 1], max_disks=3)))"
   ]
  },
  {
   "cell_type": "code",
   "execution_count": 14,
   "id": "a9bbf927-1bed-45e3-9bab-af73103fcef0",
   "metadata": {
    "ExecuteTime": {
     "end_time": "2025-07-12T19:42:47.301906Z",
     "start_time": "2025-07-12T19:42:47.297571Z"
    },
    "colab": {
     "base_uri": "https://localhost:8080/"
    },
    "id": "1d184a67",
    "outputId": "12303322-51ca-4729-de74-687b3a4fa326"
   },
   "outputs": [
    {
     "data": {
      "text/plain": [
       "2"
      ]
     },
     "execution_count": 14,
     "metadata": {},
     "output_type": "execute_result"
    }
   ],
   "source": [
    "# 3 - Numero de discos que falta colocar en su posición correcta.\n",
    "#     Verifica la cantidad de discos correctos en la ultima varilla y devuelve la cantidad que falta ordenar\n",
    "\n",
    "def heuristic_func3(node: NodeHanoi) -> int:\n",
    "\n",
    "    # Lista de lista de varilla\n",
    "    rods = node.state.rods\n",
    "\n",
    "    # Cantidad total de discos desordenados ininicialmemte\n",
    "    messy_disks = node.state.number_of_disks\n",
    "    \n",
    "    # Analiza ultima varilla\n",
    "    last_rod = rods[-1]\n",
    "    \n",
    "    # Verifica desde abajo así arriba si los discos estan en su posicion final correcta\n",
    "          \n",
    "    if last_rod:\n",
    "\n",
    "        for i in range(len(last_rod)):\n",
    "            if last_rod[i] != messy_disks:\n",
    "                break\n",
    "            messy_disks -= 1\n",
    " \n",
    "    return messy_disks\n",
    "\n",
    "heuristic_func3(NodeHanoi(StatesHanoi([1], [2], [5, 4, 3], max_disks=5)))"
   ]
  },
  {
   "cell_type": "code",
   "execution_count": 15,
   "id": "5c00cf01-954b-4a9f-826d-0c667f36160a",
   "metadata": {
    "ExecuteTime": {
     "end_time": "2025-07-12T19:42:47.301906Z",
     "start_time": "2025-07-12T19:42:47.297571Z"
    },
    "colab": {
     "base_uri": "https://localhost:8080/"
    },
    "id": "1d184a67",
    "outputId": "12303322-51ca-4729-de74-687b3a4fa326"
   },
   "outputs": [
    {
     "data": {
      "text/plain": [
       "9"
      ]
     },
     "execution_count": 15,
     "metadata": {},
     "output_type": "execute_result"
    }
   ],
   "source": [
    "# 4 - Idem Heuristic 3 pero con mala estimación\n",
    "\n",
    "import random\n",
    "\n",
    "def heuristic_func4(node: NodeHanoi) -> int:\n",
    "\n",
    "    # Lista de lista de varilla\n",
    "    rods = node.state.rods\n",
    "\n",
    "    # Cantidad total de discos desordenados ininicialmemte\n",
    "    messy_disks = node.state.number_of_disks\n",
    "    \n",
    "    # Analiza ultima varilla\n",
    "    last_rod = rods[-1]\n",
    "    \n",
    "    # Verifica desde abajo así arriba si los discos estan en su posicion final correcta\n",
    "          \n",
    "    if last_rod:\n",
    "\n",
    "        for i in range(len(last_rod)):\n",
    "            if last_rod[i] != messy_disks:\n",
    "                break\n",
    "            messy_disks -= 1\n",
    "\n",
    "    # Le agregamos un valor random entre 0 y 9 para que haga la función muy mala en estimación\n",
    "    return messy_disks + random.randint(0,9)\n",
    "\n",
    "heuristic_func4(NodeHanoi(StatesHanoi([1], [2], [5, 4, 3], max_disks=5)))"
   ]
  },
  {
   "cell_type": "markdown",
   "id": "01e44690",
   "metadata": {
    "id": "01e44690"
   },
   "source": [
    "## Búsqueda Voraz\n",
    "\n",
    "Uso cola prioritaria."
   ]
  },
  {
   "cell_type": "code",
   "execution_count": 16,
   "id": "378b1646",
   "metadata": {
    "ExecuteTime": {
     "end_time": "2025-07-12T19:42:47.330641Z",
     "start_time": "2025-07-12T19:42:47.325721Z"
    },
    "id": "378b1646"
   },
   "outputs": [],
   "source": [
    "from aima_libs.aima import PriorityQueue as AimaPriorityQueue\n",
    "\n",
    "def greedy_search(number_disks=5, heuristic=heuristic_func1):\n",
    "    # Inicializamos el problema\n",
    "    list_disks = [i for i in range(number_disks, 0, -1)]\n",
    "    initial_state = StatesHanoi(list_disks, [], [], max_disks=number_disks)\n",
    "    goal_state = StatesHanoi([], [], list_disks, max_disks=number_disks)\n",
    "    problem = ProblemHanoi(initial=initial_state, goal=goal_state)\n",
    "\n",
    "    frontier = AimaPriorityQueue(order='min', f=heuristic)  # Cola Prioritaria AIMA\n",
    "    initial_node = NodeHanoi(problem.initial) # Nodo inicial\n",
    "    frontier.append(initial_node) # Agrega el nodo inicial\n",
    "\n",
    "    explored = set() # Conjunto de estados ya visitados\n",
    "\n",
    "    node_explored = 0\n",
    "\n",
    "    goal_disk = None\n",
    "\n",
    "    while len(frontier) > 0:\n",
    "        _, node = frontier.pop()\n",
    "        node_explored += 1\n",
    "\n",
    "        explored.add(node.state) # Verificamos si llegamos al objetivo\n",
    "\n",
    "        if problem.goal_test(node.state):\n",
    "            metrics = {\n",
    "                \"solution_found\": True,\n",
    "                \"nodes_explored\": node_explored,\n",
    "                \"states_visited\": len(explored),\n",
    "                \"nodes_in_frontier\": len(frontier),\n",
    "                \"max_depth\": node.depth,\n",
    "                \"cost_total\": node.state.accumulated_cost,\n",
    "            }\n",
    "            goal_disk = node\n",
    "            return node, metrics, goal_disk\n",
    "\n",
    "        # Agregamos a la frontera los nodos sucesores que no hayan sido visitados\n",
    "        for next_node in node.expand(problem):\n",
    "            if next_node.state not in explored:\n",
    "                frontier.append((next_node))\n",
    "\n",
    "    # Si no se encuentra solución, devolvemos métricas igualmente\n",
    "    metrics = {\n",
    "        \"solution_found\": False,\n",
    "        \"nodes_explored\": node_explored,\n",
    "        \"states_visited\": len(explored),\n",
    "        \"nodes_in_frontier\": len(frontier),\n",
    "        \"max_depth\": node.depth, # OBS: Si no se encontró la solución, este valor solo tiene sentido en breadth_first_search, en otros casos se debe ir llevando registro de cual fue la máxima profundidad\n",
    "        \"cost_total\": None,\n",
    "    }\n",
    "    return None, metrics, goal_disk"
   ]
  },
  {
   "cell_type": "markdown",
   "id": "c98bce7f",
   "metadata": {
    "id": "c98bce7f"
   },
   "source": [
    "## Búsqueda A*\n",
    "\n",
    "Uso cola prioritaria."
   ]
  },
  {
   "cell_type": "code",
   "execution_count": 17,
   "id": "3b1345b8",
   "metadata": {
    "ExecuteTime": {
     "end_time": "2025-07-12T19:42:47.351987Z",
     "start_time": "2025-07-12T19:42:47.347819Z"
    },
    "id": "3b1345b8"
   },
   "outputs": [],
   "source": [
    "from aima_libs.aima import PriorityQueue as AimaPriorityQueue\n",
    "\n",
    "def astar_search(number_disks=5, heuristic=heuristic_func1):\n",
    "\n",
    "    def priority_func(node: NodeHanoi) -> int:\n",
    "        return node.path_cost + heuristic(node)\n",
    "\n",
    "    # Inicializamos el problema\n",
    "    list_disks = [i for i in range(number_disks, 0, -1)]\n",
    "    initial_state = StatesHanoi(list_disks, [], [], max_disks=number_disks)\n",
    "    goal_state = StatesHanoi([], [], list_disks, max_disks=number_disks)\n",
    "    problem = ProblemHanoi(initial=initial_state, goal=goal_state)\n",
    "\n",
    "    frontier = AimaPriorityQueue(order='min', f=priority_func)  # Cola Prioritaria AIMA\n",
    "    initial_node = NodeHanoi(problem.initial) # Nodo inicial\n",
    "    frontier.append(initial_node) # Agrega el nodo inicial\n",
    "\n",
    "    explored = set() # Conjunto de estados ya visitados\n",
    "\n",
    "    node_explored = 0\n",
    "\n",
    "    goal_disk = None\n",
    "\n",
    "    while len(frontier) > 0:\n",
    "        _, node = frontier.pop()\n",
    "        node_explored += 1\n",
    "\n",
    "        explored.add(node.state) # Verificamos si llegamos al objetivo\n",
    "\n",
    "        if problem.goal_test(node.state):\n",
    "            metrics = {\n",
    "                \"solution_found\": True,\n",
    "                \"nodes_explored\": node_explored,\n",
    "                \"states_visited\": len(explored),\n",
    "                \"nodes_in_frontier\": len(frontier),\n",
    "                \"max_depth\": node.depth,\n",
    "                \"cost_total\": node.state.accumulated_cost,\n",
    "            }\n",
    "            goal_disk = node\n",
    "            return node, metrics, goal_disk\n",
    "\n",
    "        # Agregamos a la frontera los nodos sucesores que no hayan sido visitados\n",
    "        for next_node in node.expand(problem):\n",
    "            if next_node.state not in explored:\n",
    "                frontier.append((next_node))\n",
    "\n",
    "    # Si no se encuentra solución, devolvemos métricas igualmente\n",
    "    metrics = {\n",
    "        \"solution_found\": False,\n",
    "        \"nodes_explored\": node_explored,\n",
    "        \"states_visited\": len(explored),\n",
    "        \"nodes_in_frontier\": len(frontier),\n",
    "        \"max_depth\": node.depth, # OBS: Si no se encontró la solución, este valor solo tiene sentido en breadth_first_search, en otros casos se debe ir llevando registro de cual fue la máxima profundidad\n",
    "        \"cost_total\": None,\n",
    "    }\n",
    "    return None, metrics, goal_disk"
   ]
  },
  {
   "cell_type": "markdown",
   "id": "8c42810e19a9540a",
   "metadata": {},
   "source": [
    "## Búsqueda por Dijkstra"
   ]
  },
  {
   "cell_type": "code",
   "execution_count": 18,
   "id": "f38a71aae95762f0",
   "metadata": {
    "ExecuteTime": {
     "end_time": "2025-07-12T19:42:47.365124Z",
     "start_time": "2025-07-12T19:42:47.361077Z"
    }
   },
   "outputs": [],
   "source": [
    "from aima_libs.aima import PriorityQueue as AimaPriorityQueue\n",
    "\n",
    "def dijkstra_search(number_disks=5):\n",
    "\n",
    "\n",
    "    def dijkstra_priority_func(node: NodeHanoi) -> int:\n",
    "        return node.path_cost\n",
    "\n",
    "    # Inicializamos el problema\n",
    "    list_disks = [i for i in range(number_disks, 0, -1)]\n",
    "    initial_state = StatesHanoi(list_disks, [], [], max_disks=number_disks)\n",
    "    goal_state = StatesHanoi([], [], list_disks, max_disks=number_disks)\n",
    "    problem = ProblemHanoi(initial=initial_state, goal=goal_state)\n",
    "\n",
    "    frontier = AimaPriorityQueue(order='min', f=dijkstra_priority_func)\n",
    "    initial_node = NodeHanoi(problem.initial)\n",
    "    frontier.append(initial_node)\n",
    "    explored = set() # Conjunto de estados ya visitados\n",
    "\n",
    "    node_explored = 0\n",
    "\n",
    "    goal_node = None\n",
    "\n",
    "    while len(frontier) > 0:\n",
    "        _, node = frontier.pop()\n",
    "        node_explored += 1\n",
    "\n",
    "        explored.add(node.state) # Verificamos si llegamos al objetivo\n",
    "\n",
    "        if problem.goal_test(node.state):\n",
    "            metrics = {\n",
    "                \"solution_found\": True,\n",
    "                \"nodes_explored\": node_explored,\n",
    "                \"states_visited\": len(explored),\n",
    "                \"nodes_in_frontier\": len(frontier),\n",
    "                \"max_depth\": node.depth,\n",
    "                \"cost_total\": node.state.accumulated_cost,\n",
    "            }\n",
    "            goal_node = node\n",
    "            return node, metrics, goal_node\n",
    "\n",
    "        # Agregamos a la frontera los nodos sucesores que no hayan sido visitados\n",
    "        next_nodes = [next_node for next_node in node.expand(problem) if next_node.state not in explored]\n",
    "        frontier.extend(next_nodes)\n",
    "\n",
    "    # Si no se encuentra solución, devolvemos métricas igualmente\n",
    "    metrics = {\n",
    "        \"solution_found\": False,\n",
    "        \"nodes_explored\": node_explored,\n",
    "        \"states_visited\": len(explored),\n",
    "        \"nodes_in_frontier\": len(frontier),\n",
    "        \"max_depth\": node.depth, # OBS: Si no se encontró la solución, este valor solo tiene sentido en breadth_first_search, en otros casos se debe ir llevando registro de cual fue la máxima profundidad\n",
    "        \"cost_total\": None,\n",
    "    }\n",
    "\n",
    "    return None, metrics, goal_node"
   ]
  },
  {
   "cell_type": "markdown",
   "id": "b95d84d2",
   "metadata": {
    "id": "b95d84d2"
   },
   "source": [
    "## Comparativa"
   ]
  },
  {
   "cell_type": "code",
   "execution_count": 19,
   "id": "378ce3a1",
   "metadata": {},
   "outputs": [
    {
     "name": "stdout",
     "output_type": "stream",
     "text": [
      "Algorithm      solution_found      nodes_explored    states_visited    nodes_in_frontier    max_depth    cost_total    Time [ms]    Memory [MB]\n",
      "-------------  ----------------  ----------------  ----------------  -------------------  -----------  ------------  -----------  -------------\n",
      "Breadth-first  True                          1351               233                  285           31         31.00       111.86           1.60\n",
      "Depth-first    True                           122               122                   63          121        121.00         9.28           0.24\n",
      "Greedy 1       True                           272               161                   32           38         38.00        27.64           0.25\n",
      "Greedy 2       True                           190               131                   43           34         34.00        18.80           0.24\n",
      "Greedy 3       True                           160               110                   46           31         31.00        14.94           0.21\n",
      "Greedy 4       True                           136               115                   56           48         48.00        18.45           0.23\n",
      "A* 1           True                           271               178                   23           31         31.00        24.78           0.22\n",
      "A* 2           True                           270               172                   20           31         31.00        25.40           0.21\n",
      "A* 3           True                           268               169                   18           31         31.00        24.56           0.20\n",
      "A* 4           True                           251               165                   25           33         33.00        28.15           0.23\n",
      "Dijkstra       True                           382               216                   45           31         31.00        35.89           0.32\n"
     ]
    }
   ],
   "source": [
    "import timeit\n",
    "import tracemalloc\n",
    "from tabulate import tabulate\n",
    "\n",
    "number_disks = 5\n",
    "iterations = 10\n",
    "\n",
    "# Algoritmos y heuristicas a comparar\n",
    "\n",
    "benchmark_configs = [\n",
    "    (\"Breadth-first\", lambda: breadth_first_search(number_disks)),\n",
    "    (\"Depth-first\", lambda: depth_first_search(number_disks)),\n",
    "    (\"Greedy 1\", lambda: greedy_search(number_disks, heuristic=heuristic_func1)),\n",
    "    (\"Greedy 2\", lambda: greedy_search(number_disks, heuristic=heuristic_func2)),\n",
    "    (\"Greedy 3\", lambda: greedy_search(number_disks, heuristic=heuristic_func3)),\n",
    "    (\"Greedy 4\", lambda: greedy_search(number_disks, heuristic=heuristic_func4)),\n",
    "    (\"A* 1\", lambda: astar_search(number_disks, heuristic=heuristic_func1)),\n",
    "    (\"A* 2\", lambda: astar_search(number_disks, heuristic=heuristic_func2)),\n",
    "    (\"A* 3\", lambda: astar_search(number_disks, heuristic=heuristic_func3)),\n",
    "    (\"A* 4\", lambda: astar_search(number_disks, heuristic=heuristic_func4)),\n",
    "    (\"Dijkstra\", lambda: dijkstra_search(number_disks))\n",
    "]\n",
    "\n",
    "results = []\n",
    "\n",
    "for name, func in benchmark_configs:\n",
    "\n",
    "    # Medición de tiempo\n",
    "    t = timeit.Timer(func)\n",
    "    avg_time = t.timeit(number=iterations) / iterations  # en segundos\n",
    "\n",
    "    # Medición de memoria\n",
    "    tracemalloc.start()\n",
    "    \n",
    "    # Ejecución de algoritmo\n",
    "    solution, metrics, _ = func()\n",
    "\n",
    "    _, peak_memory = tracemalloc.get_traced_memory()\n",
    "    tracemalloc.stop()\n",
    "    peak_memory /= 1024 * 1024  # convertir a MB\n",
    "\n",
    "    # Agregar fila de resultados\n",
    "    row = [name] + list(metrics.values()) + [avg_time * 1000, round(peak_memory, 2)]\n",
    "    results.append(row)\n",
    "\n",
    "# Encabezado de la tabla\n",
    "headers = [\"Algorithm\"] + list(metrics.keys()) + [\"Time [ms]\", \"Memory [MB]\"]\n",
    "\n",
    "# Imprime tabla\n",
    "print(tabulate(results, headers=headers, floatfmt=\".2f\"))"
   ]
  },
  {
   "cell_type": "markdown",
   "id": "1dfb0970",
   "metadata": {
    "id": "1dfb0970"
   },
   "source": [
    "### Simulacion"
   ]
  },
  {
   "cell_type": "code",
   "execution_count": 20,
   "id": "411aaaf4",
   "metadata": {
    "ExecuteTime": {
     "end_time": "2025-07-12T19:42:48.748366Z",
     "start_time": "2025-07-12T19:42:48.562108Z"
    },
    "id": "411aaaf4"
   },
   "outputs": [],
   "source": [
    "!mkdir -p simulator\n",
    "\n",
    "\n",
    "_, _, goal_node = breadth_first_search(number_disks=5)\n",
    "goal_node.generate_solution_for_simulator(initial_state_file=\"./simulator/initial_state.json\",\n",
    "                                          sequence_file=\"./simulator/sequence.json\")"
   ]
  },
  {
   "cell_type": "code",
   "execution_count": 21,
   "id": "da33a6d9",
   "metadata": {
    "ExecuteTime": {
     "end_time": "2025-07-12T19:42:48.886948Z",
     "start_time": "2025-07-12T19:42:48.758342Z"
    },
    "id": "da33a6d9"
   },
   "outputs": [],
   "source": [
    "!mkdir -p simulator\n",
    "\n",
    "\n",
    "_, _, goal_node = depth_first_search(number_disks=5)\n",
    "goal_node.generate_solution_for_simulator(initial_state_file=\"./simulator/initial_state.json\",\n",
    "                                          sequence_file=\"./simulator/sequence.json\")"
   ]
  },
  {
   "cell_type": "code",
   "execution_count": 22,
   "id": "7b9db0ca",
   "metadata": {
    "ExecuteTime": {
     "end_time": "2025-07-12T19:42:49.026501Z",
     "start_time": "2025-07-12T19:42:48.896193Z"
    },
    "id": "7b9db0ca"
   },
   "outputs": [],
   "source": [
    "!mkdir -p simulator\n",
    "\n",
    "\n",
    "_, _, goal_node = greedy_search(number_disks=5, heuristic=heuristic_func2)\n",
    "goal_node.generate_solution_for_simulator(initial_state_file=\"./simulator/initial_state.json\",\n",
    "                                          sequence_file=\"./simulator/sequence.json\")"
   ]
  },
  {
   "cell_type": "code",
   "execution_count": 23,
   "id": "ohJuOsCwPHww",
   "metadata": {
    "ExecuteTime": {
     "end_time": "2025-07-12T19:42:49.160971Z",
     "start_time": "2025-07-12T19:42:49.036834Z"
    },
    "id": "ohJuOsCwPHww"
   },
   "outputs": [],
   "source": [
    "!mkdir -p simulator\n",
    "goal_node.generate_solution_for_simulator(\n",
    "    initial_state_file=\"simulator/initial_state.json\",\n",
    "    sequence_file=\"simulator/sequence.json\"\n",
    ")\n"
   ]
  },
  {
   "cell_type": "code",
   "execution_count": 24,
   "id": "hUhEZvJ2_wal",
   "metadata": {
    "ExecuteTime": {
     "end_time": "2025-07-12T19:42:49.174292Z",
     "start_time": "2025-07-12T19:42:49.172034Z"
    },
    "id": "hUhEZvJ2_wal"
   },
   "outputs": [],
   "source": [
    "import json\n",
    "\n",
    "with open(\"simulator/sequence.json\") as f:\n",
    "    sequence = json.load(f)\n"
   ]
  },
  {
   "cell_type": "code",
   "execution_count": 25,
   "id": "-Ju4BZTiRqd2",
   "metadata": {
    "ExecuteTime": {
     "end_time": "2025-07-12T19:42:49.233841Z",
     "start_time": "2025-07-12T19:42:49.186920Z"
    },
    "colab": {
     "base_uri": "https://localhost:8080/",
     "height": 805
    },
    "id": "-Ju4BZTiRqd2",
    "outputId": "df08163b-f154-4be8-908f-46ce0532524b"
   },
   "outputs": [
    {
     "data": {
      "text/markdown": [
       "**Paso 1:** mover disco 1 de torre 1 a torre 3"
      ],
      "text/plain": [
       "<IPython.core.display.Markdown object>"
      ]
     },
     "metadata": {},
     "output_type": "display_data"
    },
    {
     "data": {
      "text/markdown": [
       "**Paso 2:** mover disco 2 de torre 1 a torre 2"
      ],
      "text/plain": [
       "<IPython.core.display.Markdown object>"
      ]
     },
     "metadata": {},
     "output_type": "display_data"
    },
    {
     "data": {
      "text/markdown": [
       "**Paso 3:** mover disco 1 de torre 3 a torre 2"
      ],
      "text/plain": [
       "<IPython.core.display.Markdown object>"
      ]
     },
     "metadata": {},
     "output_type": "display_data"
    },
    {
     "data": {
      "text/markdown": [
       "**Paso 4:** mover disco 3 de torre 1 a torre 3"
      ],
      "text/plain": [
       "<IPython.core.display.Markdown object>"
      ]
     },
     "metadata": {},
     "output_type": "display_data"
    },
    {
     "data": {
      "text/markdown": [
       "**Paso 5:** mover disco 1 de torre 2 a torre 1"
      ],
      "text/plain": [
       "<IPython.core.display.Markdown object>"
      ]
     },
     "metadata": {},
     "output_type": "display_data"
    },
    {
     "data": {
      "text/markdown": [
       "**Paso 6:** mover disco 2 de torre 2 a torre 3"
      ],
      "text/plain": [
       "<IPython.core.display.Markdown object>"
      ]
     },
     "metadata": {},
     "output_type": "display_data"
    },
    {
     "data": {
      "text/markdown": [
       "**Paso 7:** mover disco 1 de torre 1 a torre 3"
      ],
      "text/plain": [
       "<IPython.core.display.Markdown object>"
      ]
     },
     "metadata": {},
     "output_type": "display_data"
    },
    {
     "data": {
      "text/markdown": [
       "**Paso 8:** mover disco 4 de torre 1 a torre 2"
      ],
      "text/plain": [
       "<IPython.core.display.Markdown object>"
      ]
     },
     "metadata": {},
     "output_type": "display_data"
    },
    {
     "data": {
      "text/markdown": [
       "**Paso 9:** mover disco 1 de torre 3 a torre 2"
      ],
      "text/plain": [
       "<IPython.core.display.Markdown object>"
      ]
     },
     "metadata": {},
     "output_type": "display_data"
    },
    {
     "data": {
      "text/markdown": [
       "**Paso 10:** mover disco 2 de torre 3 a torre 1"
      ],
      "text/plain": [
       "<IPython.core.display.Markdown object>"
      ]
     },
     "metadata": {},
     "output_type": "display_data"
    },
    {
     "data": {
      "text/markdown": [
       "**Paso 11:** mover disco 1 de torre 2 a torre 1"
      ],
      "text/plain": [
       "<IPython.core.display.Markdown object>"
      ]
     },
     "metadata": {},
     "output_type": "display_data"
    },
    {
     "data": {
      "text/markdown": [
       "**Paso 12:** mover disco 3 de torre 3 a torre 2"
      ],
      "text/plain": [
       "<IPython.core.display.Markdown object>"
      ]
     },
     "metadata": {},
     "output_type": "display_data"
    },
    {
     "data": {
      "text/markdown": [
       "**Paso 13:** mover disco 1 de torre 1 a torre 3"
      ],
      "text/plain": [
       "<IPython.core.display.Markdown object>"
      ]
     },
     "metadata": {},
     "output_type": "display_data"
    },
    {
     "data": {
      "text/markdown": [
       "**Paso 14:** mover disco 2 de torre 1 a torre 2"
      ],
      "text/plain": [
       "<IPython.core.display.Markdown object>"
      ]
     },
     "metadata": {},
     "output_type": "display_data"
    },
    {
     "data": {
      "text/markdown": [
       "**Paso 15:** mover disco 1 de torre 3 a torre 2"
      ],
      "text/plain": [
       "<IPython.core.display.Markdown object>"
      ]
     },
     "metadata": {},
     "output_type": "display_data"
    },
    {
     "data": {
      "text/markdown": [
       "**Paso 16:** mover disco 5 de torre 1 a torre 3"
      ],
      "text/plain": [
       "<IPython.core.display.Markdown object>"
      ]
     },
     "metadata": {},
     "output_type": "display_data"
    },
    {
     "data": {
      "text/markdown": [
       "**Paso 17:** mover disco 1 de torre 2 a torre 1"
      ],
      "text/plain": [
       "<IPython.core.display.Markdown object>"
      ]
     },
     "metadata": {},
     "output_type": "display_data"
    },
    {
     "data": {
      "text/markdown": [
       "**Paso 18:** mover disco 2 de torre 2 a torre 3"
      ],
      "text/plain": [
       "<IPython.core.display.Markdown object>"
      ]
     },
     "metadata": {},
     "output_type": "display_data"
    },
    {
     "data": {
      "text/markdown": [
       "**Paso 19:** mover disco 1 de torre 1 a torre 3"
      ],
      "text/plain": [
       "<IPython.core.display.Markdown object>"
      ]
     },
     "metadata": {},
     "output_type": "display_data"
    },
    {
     "data": {
      "text/markdown": [
       "**Paso 20:** mover disco 3 de torre 2 a torre 1"
      ],
      "text/plain": [
       "<IPython.core.display.Markdown object>"
      ]
     },
     "metadata": {},
     "output_type": "display_data"
    },
    {
     "data": {
      "text/markdown": [
       "**Paso 21:** mover disco 1 de torre 3 a torre 1"
      ],
      "text/plain": [
       "<IPython.core.display.Markdown object>"
      ]
     },
     "metadata": {},
     "output_type": "display_data"
    },
    {
     "data": {
      "text/markdown": [
       "**Paso 22:** mover disco 1 de torre 1 a torre 2"
      ],
      "text/plain": [
       "<IPython.core.display.Markdown object>"
      ]
     },
     "metadata": {},
     "output_type": "display_data"
    },
    {
     "data": {
      "text/markdown": [
       "**Paso 23:** mover disco 2 de torre 3 a torre 1"
      ],
      "text/plain": [
       "<IPython.core.display.Markdown object>"
      ]
     },
     "metadata": {},
     "output_type": "display_data"
    },
    {
     "data": {
      "text/markdown": [
       "**Paso 24:** mover disco 1 de torre 2 a torre 1"
      ],
      "text/plain": [
       "<IPython.core.display.Markdown object>"
      ]
     },
     "metadata": {},
     "output_type": "display_data"
    },
    {
     "data": {
      "text/markdown": [
       "**Paso 25:** mover disco 4 de torre 2 a torre 3"
      ],
      "text/plain": [
       "<IPython.core.display.Markdown object>"
      ]
     },
     "metadata": {},
     "output_type": "display_data"
    },
    {
     "data": {
      "text/markdown": [
       "**Paso 26:** mover disco 1 de torre 1 a torre 2"
      ],
      "text/plain": [
       "<IPython.core.display.Markdown object>"
      ]
     },
     "metadata": {},
     "output_type": "display_data"
    },
    {
     "data": {
      "text/markdown": [
       "**Paso 27:** mover disco 2 de torre 1 a torre 3"
      ],
      "text/plain": [
       "<IPython.core.display.Markdown object>"
      ]
     },
     "metadata": {},
     "output_type": "display_data"
    },
    {
     "data": {
      "text/markdown": [
       "**Paso 28:** mover disco 1 de torre 2 a torre 1"
      ],
      "text/plain": [
       "<IPython.core.display.Markdown object>"
      ]
     },
     "metadata": {},
     "output_type": "display_data"
    },
    {
     "data": {
      "text/markdown": [
       "**Paso 29:** mover disco 2 de torre 3 a torre 2"
      ],
      "text/plain": [
       "<IPython.core.display.Markdown object>"
      ]
     },
     "metadata": {},
     "output_type": "display_data"
    },
    {
     "data": {
      "text/markdown": [
       "**Paso 30:** mover disco 1 de torre 1 a torre 2"
      ],
      "text/plain": [
       "<IPython.core.display.Markdown object>"
      ]
     },
     "metadata": {},
     "output_type": "display_data"
    },
    {
     "data": {
      "text/markdown": [
       "**Paso 31:** mover disco 3 de torre 1 a torre 3"
      ],
      "text/plain": [
       "<IPython.core.display.Markdown object>"
      ]
     },
     "metadata": {},
     "output_type": "display_data"
    },
    {
     "data": {
      "text/markdown": [
       "**Paso 32:** mover disco 1 de torre 2 a torre 1"
      ],
      "text/plain": [
       "<IPython.core.display.Markdown object>"
      ]
     },
     "metadata": {},
     "output_type": "display_data"
    },
    {
     "data": {
      "text/markdown": [
       "**Paso 33:** mover disco 2 de torre 2 a torre 3"
      ],
      "text/plain": [
       "<IPython.core.display.Markdown object>"
      ]
     },
     "metadata": {},
     "output_type": "display_data"
    },
    {
     "data": {
      "text/markdown": [
       "**Paso 34:** mover disco 1 de torre 1 a torre 3"
      ],
      "text/plain": [
       "<IPython.core.display.Markdown object>"
      ]
     },
     "metadata": {},
     "output_type": "display_data"
    }
   ],
   "source": [
    "from IPython.display import Markdown, display\n",
    "\n",
    "# Mostrar los movimientos paso a paso\n",
    "for i, step in enumerate(sequence, 1):\n",
    "    disk = step[\"disk\"]\n",
    "    origin = step[\"peg_start\"]\n",
    "    target = step[\"peg_end\"]\n",
    "    display(Markdown(f\"**Paso {i}:** mover disco {disk} de torre {origin} a torre {target}\"))\n"
   ]
  },
  {
   "cell_type": "markdown",
   "id": "OUJhRVAYE5MU",
   "metadata": {
    "id": "OUJhRVAYE5MU"
   },
   "source": [
    "# Ejecución/Simulación DFS"
   ]
  },
  {
   "cell_type": "code",
   "execution_count": 26,
   "id": "efe305d9a9d78877",
   "metadata": {},
   "outputs": [],
   "source": [
    "# Ejecutar el algoritmo\n",
    "node, metrics, goal_node = depth_first_search(5)"
   ]
  },
  {
   "cell_type": "markdown",
   "id": "3499c392dd155261",
   "metadata": {},
   "source": [
    "### Crear archivo `sequence_dfs.json` con los movimientos realizados"
   ]
  },
  {
   "cell_type": "code",
   "execution_count": 27,
   "id": "84d12c451f74fe3f",
   "metadata": {},
   "outputs": [],
   "source": [
    "save_sequence('sequence_dfs')"
   ]
  },
  {
   "cell_type": "code",
   "execution_count": 28,
   "id": "3fbe796edfc649ca",
   "metadata": {},
   "outputs": [],
   "source": [
    "save_initial_state('initial_state_dfs')"
   ]
  },
  {
   "cell_type": "markdown",
   "id": "e767def083c64a1c",
   "metadata": {},
   "source": [
    "### Simulación de los movimientos realizados por DFS"
   ]
  },
  {
   "cell_type": "code",
   "execution_count": 29,
   "id": "31be1478826bdd0",
   "metadata": {},
   "outputs": [
    {
     "data": {
      "image/png": "[encoded data removed]",
      "text/plain": [
       "<Figure size 800x400 with 1 Axes>"
      ]
     },
     "metadata": {},
     "output_type": "display_data"
    }
   ],
   "source": [
    "simulate_movements('sequence_dfs', 'initial_state_dfs')"
   ]
  },
  {
   "cell_type": "markdown",
   "id": "b5c3ad396f12e272",
   "metadata": {},
   "source": [
    "# Ejecución/Simulación STAR A*"
   ]
  },
  {
   "cell_type": "code",
   "execution_count": 30,
   "id": "bbe9fb14cb27356d",
   "metadata": {
    "ExecuteTime": {
     "end_time": "2025-07-12T18:46:51.674870Z",
     "start_time": "2025-07-12T18:46:51.639719Z"
    }
   },
   "outputs": [],
   "source": [
    "# Ejecutar el algoritmo\n",
    "node, metrics, goal_node = astar_search(5)  # Usamos 5 discos\n"
   ]
  },
  {
   "cell_type": "markdown",
   "id": "396a7874faba755",
   "metadata": {},
   "source": [
    "### Crear archivo `sequence_star_a.json` con los movimientos realizados"
   ]
  },
  {
   "cell_type": "code",
   "execution_count": 31,
   "id": "7FxNLtHTK5fn",
   "metadata": {
    "ExecuteTime": {
     "end_time": "2025-07-12T18:46:51.681493Z",
     "start_time": "2025-07-12T18:46:51.678723Z"
    },
    "id": "7FxNLtHTK5fn"
   },
   "outputs": [],
   "source": [
    "#Crear sequence_star_a\n",
    "save_sequence('sequence_star_a')\n"
   ]
  },
  {
   "cell_type": "code",
   "execution_count": 32,
   "id": "d9f5374150a43c72",
   "metadata": {
    "ExecuteTime": {
     "end_time": "2025-07-12T18:46:51.699247Z",
     "start_time": "2025-07-12T18:46:51.696755Z"
    }
   },
   "outputs": [],
   "source": [
    "#Crear initial_state_star_a\n",
    "save_initial_state('initial_state_star_a')\n"
   ]
  },
  {
   "cell_type": "markdown",
   "id": "41747b4de4ac2fc6",
   "metadata": {},
   "source": [
    "### Simulación de los movimientos realizados por STAR A*"
   ]
  },
  {
   "cell_type": "code",
   "execution_count": 33,
   "id": "75653b9535fb96e4",
   "metadata": {},
   "outputs": [
    {
     "data": {
      "image/png": "[encoded data removed]",
      "text/plain": [
       "<Figure size 800x400 with 1 Axes>"
      ]
     },
     "metadata": {},
     "output_type": "display_data"
    }
   ],
   "source": [
    "simulate_movements('sequence_star_a', 'initial_state_star_a')\n"
   ]
  },
  {
   "cell_type": "markdown",
   "id": "37ca1ff7ef2ef610",
   "metadata": {},
   "source": [
    "# Ejecución/Simulación Greedy Search\n"
   ]
  },
  {
   "cell_type": "code",
   "execution_count": 34,
   "id": "8d7689eb3d93cf0d",
   "metadata": {},
   "outputs": [],
   "source": [
    "#ejecutar el algoritmo\n",
    "node, metrics, goal_node = greedy_search(5)\n"
   ]
  },
  {
   "cell_type": "markdown",
   "id": "a1076022ea9f5a92",
   "metadata": {},
   "source": [
    "### Crear archivo `sequence_greedy.json` con los movimientos realizados"
   ]
  },
  {
   "cell_type": "code",
   "execution_count": 35,
   "id": "6cf5e7aaa89b8adb",
   "metadata": {},
   "outputs": [],
   "source": [
    "save_sequence('sequence_greedy')\n"
   ]
  },
  {
   "cell_type": "markdown",
   "id": "9676722eb0ef9198",
   "metadata": {},
   "source": [
    "### Crear archivo `initial_state_greedy.json` con el estado inicial"
   ]
  },
  {
   "cell_type": "code",
   "execution_count": 36,
   "id": "b838f293803d916d",
   "metadata": {},
   "outputs": [],
   "source": [
    "#crear el archivo initial_state_greedy\n",
    "save_initial_state('initial_state_greedy')\n"
   ]
  },
  {
   "cell_type": "markdown",
   "id": "e4efd5194632601a",
   "metadata": {},
   "source": [
    "### Simulación de los movimientos realizados por Greedy Search"
   ]
  },
  {
   "cell_type": "code",
   "execution_count": 37,
   "id": "552a1da7d8b70dc9",
   "metadata": {},
   "outputs": [
    {
     "data": {
      "image/png": "[encoded data removed]",
      "text/plain": [
       "<Figure size 800x400 with 1 Axes>"
      ]
     },
     "metadata": {},
     "output_type": "display_data"
    }
   ],
   "source": [
    "simulate_movements('sequence_greedy','initial_state_greedy')\n"
   ]
  },
  {
   "cell_type": "markdown",
   "id": "954e0abdae7d736",
   "metadata": {},
   "source": [
    "# Ejecución Dijkstra"
   ]
  },
  {
   "cell_type": "code",
   "execution_count": 38,
   "id": "7187406cdecd0d34",
   "metadata": {},
   "outputs": [],
   "source": [
    "#ejecutar el algoritmo\n",
    "node, metrics, goal_node = dijkstra_search(5)"
   ]
  },
  {
   "cell_type": "markdown",
   "id": "15da1a9274b4b2bf",
   "metadata": {},
   "source": [
    "### Crear archivo `sequence_dijkstra.json` con los movimientos realizados"
   ]
  },
  {
   "cell_type": "code",
   "execution_count": 39,
   "id": "e9a9c1f83875dafb",
   "metadata": {},
   "outputs": [],
   "source": [
    "save_sequence('sequence_dijkstra')"
   ]
  },
  {
   "cell_type": "markdown",
   "id": "753f6dbef8be580a",
   "metadata": {},
   "source": [
    "### Crear archivo `initial_state_dijkstra.json` con el estado inicial"
   ]
  },
  {
   "cell_type": "code",
   "execution_count": 40,
   "id": "5d3175846a3bb102",
   "metadata": {},
   "outputs": [],
   "source": [
    "save_initial_state('initial_state_dijkstra')"
   ]
  },
  {
   "cell_type": "markdown",
   "id": "1f4668d379c58667",
   "metadata": {},
   "source": [
    "### Simulación de los movimientos realizados por Dijkstra Search"
   ]
  },
  {
   "cell_type": "code",
   "execution_count": null,
   "id": "2d520f332eb3f1ed",
   "metadata": {},
   "outputs": [
    {
     "data": {
      "image/png": "[encoded data removed]",
      "text/plain": [
       "<Figure size 800x400 with 1 Axes>"
      ]
     },
     "metadata": {},
     "output_type": "display_data"
    }
   ],
   "source": [
    "simulate_movements('sequence_dijkstra','initial_state_dijkstra')"
   ]
  },
  {
   "cell_type": "markdown",
   "id": "a62464c73e57a86",
   "metadata": {},
   "source": [
    "# Preguntas teóricas\n"
   ]
  },
  {
   "cell_type": "markdown",
   "id": "3df90d61b241b04a",
   "metadata": {},
   "source": [
    "## 1. ¿Cuáles son los PEAS de este problema?\n",
    "\n",
    "- **Performance (desempeño):**\n",
    "  - Alcanzar el estado objetivo (todos los discos apilados en orden decreciente en la varilla derecha).\n",
    "  - Minimizar la cantidad de movimientos, ya que esta es proporcional al tiempo de ejecución, dado que el costo de mover cada disco es único y constante para todos.\n",
    "  - (Opcional) Minimizar el uso de memoria.\n",
    "- **Environment (entorno):**\n",
    "  - 5 discos de distinto tamaño están inicialmente apilados en orden decreciente sobre la varilla izquierda, donde en ningun momento un disco puede estar colocado sobre otro de menor tamaño.\n",
    "  - 3 varillas.\n",
    "- **Actuators (actuadores):**\n",
    "  - Mecanismo para mover discos: la única acción posible es trasladar el disco superior de una varilla a otra, especificando la varilla origen y la de destino.\n",
    "- **Sensores (sensores):**\n",
    "  - Lectura del estado actual de las varillas: acción de consultar en todo momento qué discos hay en cada varilla y en qué orden."
   ]
  },
  {
   "cell_type": "markdown",
   "id": "68a5a9a6473fa4dd",
   "metadata": {},
   "source": [
    "## 2. ¿Cuáles son las propiedades del entorno de trabajo?\n",
    "\n",
    "Las propiedades del entorno de trabajo en el contexto de la Torre de Hanoi son:\n",
    "- **Discreto:** el entorno tiene un número finito y contable de estados posibles. Cada acción cambia el estado de forma puntual y no existen transiciones continuas.\n",
    "- **Totalmente observable:** se conoce en todo momento la posición exacta de cada disco en cada varilla. No hay información oculta.\n",
    "- **Determinista:** cada acción tiene un resultado único y predecible. Mover un disco siempre produce el mismo cambio en el estado.\n",
    "- **Estático:** el entorno no cambia por sí solo. Solo se modifica cuando el agente realiza una acción.\n",
    "- **Secuencial:** la solución requiere una secuencia ordenada de movimientos donde cada acción depende de las anteriores para alcanzar el objetivo.\n",
    "- **Agente individual:** hay un único agente encargado de realizar todos los movimientos de los discos. No hay interacción con otros agentes."
   ]
  },
  {
   "cell_type": "markdown",
   "id": "1670439dfae95305",
   "metadata": {},
   "source": [
    "## 3. Defina los siguientes conceptos: Estado, Espacio de estados, Árbol de búsqueda, Nodo de búsqueda, Objetivo, Acción, Frontera\n",
    "\n",
    "- **Estado:** representa una configuración específica de los discos en las tres varillas en un momento dado.\n",
    "- **Espacio de estados:** es el conjunto de todos los estados posibles que se pueden alcanzar desde el estado inicial, aplicando las reglas del problema, es decir, mover un disco a la vez sin colocar un disco sobre uno de menor tamaño.\n",
    "- **Árbol de búsqueda:** representa todas las posibles secuencias de movimientos desde el estado inicial hasta el estado objetivo. Es decir, todas las secuencias posibles para pasar de tener los discos apilados en orden decreciente en la varilla izquierda a tenerlos en ese mismo orden en la varilla derecha.\n",
    "- **Nodo de búsqueda:** representa una configuración de los discos junto con el movimiento que se realizó para llegar a ella. Cada nodo guarda su estado anterior, lo que permite reconstruir la secuencia completa de movimientos desde el inicio.\n",
    "- **Objetivo:** lograr que todos los discos se encuentren apilados en orden de tamaño decreciente en la varilla derecha.\n",
    "- **Acción:** mover un único disco superior de una varilla a otra, sin colocarlo encima de un disco más pequeño que él.\n",
    "- **Frontera:** conjunto de configuraciones de discos generadas por movimientos válidos desde estados anteriores, pero que aún no fueron exploradas para seguir generando nuevos movimientos. Es decir, son los próximos posibles movimientos a considerar en la búsqueda de la solución."
   ]
  },
  {
   "cell_type": "markdown",
   "id": "c2260cf6a0bff729",
   "metadata": {},
   "source": [
    "## 4. Implementación del algoritmo\n",
    "\n",
    "Para la resolución del problema de la Torre de Hanoi se desarrollaron e implementaron los algoritmos de búsqueda Depth-First Search (DFS), Greedy, A* y Dijkstra. En el caso de los algoritmos Greedy y A*, se diseñaron y evaluaron cuatro funciones heurísticas diferentes. Las implementaciones de cada uno de estos algoritmos fueron detalladas previamente en este notebook."
   ]
  },
  {
   "cell_type": "markdown",
   "id": "3da973b1a82709e4",
   "metadata": {},
   "source": [
    "## 5. ¿Cuál es la complejidad teórica en tiempo y memoria del algoritmo elegido?\n",
    "\n",
    "A continuación se detalla la complejidad temporal y espacial de los algoritmos implementados. Es importante mencionar que, para este análisis:\n",
    "- 𝑏 representa el factor de ramificación (cantidad de movimientos posibles por estado).\n",
    "- 𝑚 es la profundidad máxima del árbol de búsqueda.\n",
    "- 𝑑 es la profundidad de la solución más cercana.\n",
    "- V Número de vértices (nodos) en el grafo.\n",
    "- E Número de aristas (conexiones) en el grafo.\n",
    "\n",
    "| Algoritmo | Complejidad temporal | Complejidad espacial |\n",
    "|-----------|----------------------|----------------------|\n",
    "| DFS       | $O(𝑏^𝑚)$ | $O(𝑏.𝑑)$ |\n",
    "| Greedy    | $O(𝑏^𝑚)$ | $O(𝑏^𝑚)$ |\n",
    "| A*        | $O(𝑏^𝑑)$ | $O(𝑏^𝑑)$ |\n",
    "| Dijkstra  | $O(E+VlogV)$ | $O(V)$ |\n",
    "\n",
    "- **DFS (Depth-First Search):**  \n",
    "  - **Complejidad temporal:** en el peor caso, explora todo el árbol hasta la profundidad máxima \\(m\\).  \n",
    "  - **Complejidad espacial:** guarda únicamente el camino actual en la pila de exploración, cuya profundidad máxima es \\(d\\). En cada nivel pueden generarse hasta \\(b\\) nodos sucesores, por lo que la complejidad espacial en el peor caso es \\(O(b . d)\\).\n",
    "\n",
    "- **Greedy:**  \n",
    "  - **Complejidad temporal:** puede expandir casi todo el espacio de búsqueda si la heurística es mala (peor caso), es decir, hasta profundidad \\(m\\).  \n",
    "  - **Complejidad espacial:** debe almacenar todos los nodos en la frontera más los explorados, por lo que la complejidad espacial es \\(O(b^m)\\).\n",
    "\n",
    "- **A\\*:**  \n",
    "  - **Complejidad temporal:** en el peor caso, si la heurística es muy poco informativa (casi nula), la complejidad es \\(O(b^d)\\).  \n",
    "  - **Complejidad espacial:** mantiene en memoria todos los nodos visitados y la frontera, por lo que la complejidad espacial también es \\(O(b^d)\\).\n",
    "\n",
    "- **Dijkstra:**  \n",
    "  - **Complejidad temporal:** depende de la estructura de la cola de prioridad; usando un min-heap, que es la implementación más común, es \\(O(E + V \\log V)\\). En el peor caso, se exploran todos los vértices y aristas del grafo.  \n",
    "  - **Complejidad espacial:** requiere almacenar la distancia mínima a cada vértice y mantener la cola de prioridad, por lo que la complejidad espacial es \\(O(V)\\), siendo \\(V\\) el número de nodos.\n",
    "\n",
    "\n",
    "Estas complejidades corresponden al peor caso. Sin embargo, los algoritmos de búsqueda informada como Greedy y A* pueden ser significativamente más eficientes en la práctica si la heurística utilizada es adecuada. Una heurística se considera buena si es admisible (nunca sobreestima el costo real al objetivo) y, en el caso de A*, también consistente (cumple con la desigualdad triangular)."
   ]
  },
  {
   "cell_type": "markdown",
   "id": "14957b3d04389296",
   "metadata": {},
   "source": [
    "## 6. A nivel de implementación, ¿cuánto tiempo y memoria utiliza el algoritmo?\n",
    "\n",
    "A continuación se presenta una tabla en la que se comparan el tiempo de ejecución y el uso de memoria de cada algoritmo. Los datos fueron extraídos de la tabla comparativa mostrada previamente en este notebook.\n",
    "\n",
    "| Algorithm      | Time [ms] | Memory [MB] |\n",
    "|----------------|-----------|--------------|\n",
    "| Breadth-first  | 272.42    | 1.70         |\n",
    "| Depth-first    | 22.24     | 0.24         |\n",
    "| Greedy 1       | 61.98     | 0.25         |\n",
    "| Greedy 2       | 39.42     | 0.24         |\n",
    "| Greedy 3       | 32.88     | 0.21         |\n",
    "| Greedy 4       | 37.65     | 0.35         |\n",
    "| A* 1           | 63.22     | 0.22         |\n",
    "| A* 2           | 53.03     | 0.21         |\n",
    "| A* 3           | 52.72     | 0.20         |\n",
    "| A* 4           | 64.40     | 0.27         |\n",
    "| Dijkstra       | 77.82     | 0.32         |\n",
    "\n",
    "A partir de la tabla se puede observar cómo la modificación de la heurística utilizada impacta significativamente en el rendimiento de los algoritmos Greedy y A*. En particular, la heurística 4 es una versión alterada de la heurística 3 que arroja valores incorrectos, lo que genera una caída en el rendimiento (ver caso Greedy 4). No obstante, A* logra mitigar en gran medida los efectos negativos de una heurística deficiente, manteniendo un desempeño estable incluso con una función heurística no ideal."
   ]
  },
  {
   "cell_type": "markdown",
   "id": "1751b3d6379e249a",
   "metadata": {},
   "source": [
    "## 7 ¿Qué tan lejos está la solución encontrada por el algoritmo implementado de esa solución óptima?\n",
    "\n",
    "La solución óptima para la Torre de Hanoi con 5 discos es 31 movimientos.\n",
    "A partir de los resultados obtenidos en las ejecuciones, se observa lo siguiente:\n",
    "- **DFS:** encuentra la solución realizando en promedio 90 movimientos adicionales respecto de la solución óptima.\n",
    "- **Greedy:** encuentra la solución realizando en promedio 5 movimientos adicionales. Sin embargo, esto depende de la heurística utilizada, por ejemplo, en el caso de la solución \"Greedy 3\", se obtiene la solución óptima.\n",
    "- **A\\*:** encuentra la solución utilizando exactamente 31 movimientos, es decir, logra la solución óptima.\n",
    "- **Dijkstra:** encuentra la solucion utilizando 31 movimiento, es decir, logra la solución óptima."
   ]
  }
 ],
 "metadata": {
  "colab": {
   "collapsed_sections": [
    "9dc3793379ee6eb9"
   ],
   "provenance": [],
   "toc_visible": true
  },
  "kernelspec": {
   "display_name": "Python 3 (ipykernel)",
   "language": "python",
   "name": "python3"
  },
  "language_info": {
   "codemirror_mode": {
    "name": "ipython",
    "version": 3
   },
   "file_extension": ".py",
   "mimetype": "text/x-python",
   "name": "python",
   "nbconvert_exporter": "python",
   "pygments_lexer": "ipython3",
   "version": "3.10.18"
  }
 },
 "nbformat": 4,
 "nbformat_minor": 5
}
